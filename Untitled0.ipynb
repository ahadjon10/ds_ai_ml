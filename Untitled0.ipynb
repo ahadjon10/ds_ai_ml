{
  "nbformat": 4,
  "nbformat_minor": 0,
  "metadata": {
    "colab": {
      "provenance": [],
      "authorship_tag": "ABX9TyND/V5AA51Rocmw253ZG1zn",
      "include_colab_link": true
    },
    "kernelspec": {
      "name": "python3",
      "display_name": "Python 3"
    },
    "language_info": {
      "name": "python"
    }
  },
  "cells": [
    {
      "cell_type": "markdown",
      "metadata": {
        "id": "view-in-github",
        "colab_type": "text"
      },
      "source": [
        "<a href=\"https://colab.research.google.com/github/ahadjon10/ds_ai_ml/blob/main/Untitled0.ipynb\" target=\"_parent\"><img src=\"https://colab.research.google.com/assets/colab-badge.svg\" alt=\"Open In Colab\"/></a>"
      ]
    },
    {
      "cell_type": "code",
      "execution_count": null,
      "metadata": {
        "colab": {
          "base_uri": "https://localhost:8080/",
          "height": 422
        },
        "id": "IOKZVmZeY5p0",
        "outputId": "fc8fcd4e-6f15-4131-b9c1-d614a9e91319"
      },
      "outputs": [
        {
          "output_type": "stream",
          "name": "stdout",
          "text": [
            "w=1.000\n",
            "\t 24.00, 50.00, 24.00, 676.00\n",
            "\t 28.00, 61.00, 28.00, 1089.00\n",
            "\t 32.00, 66.00, 32.00, 1156.00\n",
            "\t 35.00, 71.00, 35.00, 1296.00\n",
            "\t 40.00, 82.00, 40.00, 1764.00\n",
            "\t 46.00, 90.00, 46.00, 1936.00\n",
            "MSE= 1319.5\n"
          ]
        },
        {
          "output_type": "display_data",
          "data": {
            "text/plain": [
              "<Figure size 432x288 with 2 Axes>"
            ],
            "image/png": "[encoded data removed]"
          },
          "metadata": {
            "needs_background": "light"
          }
        }
      ],
      "source": [
        "#Kutubxonalrni chaqirib olish\n",
        "import matplotlib.pyplot as plt\n",
        "import numpy as np\n",
        "\n",
        "#Ma'lumotlarni kiritish\n",
        "house_price = np.array([24,28,32,35,40,46])\n",
        "area = np.array([50,61, 66, 71, 82, 90 ])\n",
        "\n",
        "#To'g'ri hisoblash uchun funksiya\n",
        "def forward(x):\n",
        "    return x*w\n",
        "#Xatolik (Loss) ning funksiyasi\n",
        "def loss(x,y):\n",
        "    y_pred = forward(x)\n",
        "    return (y_pred-y)**2\n",
        "\n",
        "#Grafikni yaratib olishimiz uchun kontaynerlar\n",
        "w_list=[]\n",
        "mse_list=[]\n",
        "\n",
        "#w ni 0 dan 4 gacha oralig'ida hisblash\n",
        "for w in np.arange(1.0,2.0,3.0):\n",
        "    print(\"w={:.3f}\".format(w))\n",
        "    L_umum=0\n",
        "\n",
        "    for x_hb_qiym, y_hb_qiym in zip(house_price, area):\n",
        "        y_hb_bash = forward(x_hb_qiym)\n",
        "        L_hb_qiym = loss(x_hb_qiym, y_hb_qiym)\n",
        "        L_umum += L_hb_qiym\n",
        "        print(\"\\t\", \"{:.2f}, {:.2f}, {:.2f}, {:.2f}\".format(x_hb_qiym, y_hb_qiym, y_hb_bash, L_hb_qiym))\n",
        "\n",
        "    # Har bir ma'lumot uchun MSE ni hisoblaymiz\n",
        "    print(\"MSE=\", L_umum / len(house_price))  #len(x_soat)--> N\n",
        "    w_list.append(w)\n",
        "    mse_list.append(L_umum / len(house_price))\n",
        "\n",
        "#Grafik natija\n",
        "plt.plot(w_list, mse_list, color=\"r\")\n",
        "plt.ylabel('Loss')\n",
        "plt.xlabel('w')\n",
        "ax= plt.axes()\n",
        "ax.set_facecolor('#030101')\n",
        "plt.show()"
      ]
    },
    {
      "cell_type": "code",
      "source": [
        "# Training Data(O'rgatishdagi ma'lumotlar)\n",
        "x_soat = [1.0, 2.0, 3.0]\n",
        "y_baho = [2.0, 4.0, 6.0]\n",
        "\n",
        "w = 1.0  #w uchun dastalbki taxminiy qiymat\n",
        "\n",
        "\n",
        "# (Modelimiz)To'g'ri hisoblash uchun funksiya\n",
        "def forward(x):\n",
        "    return x * w\n",
        "\n",
        "\n",
        "# Xatolik (Loss) ning funkisyasi\n",
        "def loss(x, y):\n",
        "    y_pred = forward(x)\n",
        "    return (y_pred - y) * (y_pred - y)\n",
        "\n",
        "\n",
        "# Gradient uchun funksiya\n",
        "def gradient(x, y):  # d_loss/d_w\n",
        "    return 2 * x * (x * w - y)\n",
        "\n",
        "\n",
        "# Training dan avval\n",
        "print(\"Bashorat (training dan avval)\",  \"4 soat o'qilganda:\", forward(4))\n",
        "\n",
        "# Training zanjiri (loop)\n",
        "learning_rate =0.01\n",
        "for epoch in range(10):\n",
        "    for x_hb_qiym, y_hb_qiym in zip(x_soat, y_baho):\n",
        "        # Hosilani hisoblash\n",
        "        # w ning qiymatini yangilash\n",
        "        # xatolikni hisoblab progressni chop qilish\n",
        "        grad = gradient(x_hb_qiym, y_hb_qiym)\n",
        "        w = w - learning_rate * grad\n",
        "        print(\"\\tgrad: \", x_hb_qiym, y_hb_qiym, round(grad, 2))\n",
        "        l = loss(x_hb_qiym, y_hb_qiym)\n",
        "    print(\"progress:\", epoch, \"w=\", round(w, 2), \"loss=\", round(l, 2))\n",
        "\n",
        "# Traningdan so'ng\n",
        "print(\"Bashorat (training dan keyin)\",  \"4 saot o'qilganda: \", forward(4))"
      ],
      "metadata": {
        "id": "HmCB2-vkZRmE",
        "colab": {
          "base_uri": "https://localhost:8080/"
        },
        "outputId": "94679c11-c229-4755-d11a-b742cea7f5ac"
      },
      "execution_count": 10,
      "outputs": [
        {
          "output_type": "stream",
          "name": "stdout",
          "text": [
            "Bashorat (training dan avval) 4 soat o'qilganda: 4.0\n",
            "\tgrad:  1.0 2.0 -2.0\n",
            "\tgrad:  2.0 4.0 -7.84\n",
            "\tgrad:  3.0 6.0 -16.23\n",
            "progress: 0 w= 1.26 loss= 4.92\n",
            "\tgrad:  1.0 2.0 -1.48\n",
            "\tgrad:  2.0 4.0 -5.8\n",
            "\tgrad:  3.0 6.0 -12.0\n",
            "progress: 1 w= 1.45 loss= 2.69\n",
            "\tgrad:  1.0 2.0 -1.09\n",
            "\tgrad:  2.0 4.0 -4.29\n",
            "\tgrad:  3.0 6.0 -8.87\n",
            "progress: 2 w= 1.6 loss= 1.47\n",
            "\tgrad:  1.0 2.0 -0.81\n",
            "\tgrad:  2.0 4.0 -3.17\n",
            "\tgrad:  3.0 6.0 -6.56\n",
            "progress: 3 w= 1.7 loss= 0.8\n",
            "\tgrad:  1.0 2.0 -0.6\n",
            "\tgrad:  2.0 4.0 -2.34\n",
            "\tgrad:  3.0 6.0 -4.85\n",
            "progress: 4 w= 1.78 loss= 0.44\n",
            "\tgrad:  1.0 2.0 -0.44\n",
            "\tgrad:  2.0 4.0 -1.73\n",
            "\tgrad:  3.0 6.0 -3.58\n",
            "progress: 5 w= 1.84 loss= 0.24\n",
            "\tgrad:  1.0 2.0 -0.33\n",
            "\tgrad:  2.0 4.0 -1.28\n",
            "\tgrad:  3.0 6.0 -2.65\n",
            "progress: 6 w= 1.88 loss= 0.13\n",
            "\tgrad:  1.0 2.0 -0.24\n",
            "\tgrad:  2.0 4.0 -0.95\n",
            "\tgrad:  3.0 6.0 -1.96\n",
            "progress: 7 w= 1.91 loss= 0.07\n",
            "\tgrad:  1.0 2.0 -0.18\n",
            "\tgrad:  2.0 4.0 -0.7\n",
            "\tgrad:  3.0 6.0 -1.45\n",
            "progress: 8 w= 1.93 loss= 0.04\n",
            "\tgrad:  1.0 2.0 -0.13\n",
            "\tgrad:  2.0 4.0 -0.52\n",
            "\tgrad:  3.0 6.0 -1.07\n",
            "progress: 9 w= 1.95 loss= 0.02\n",
            "Bashorat (training dan keyin) 4 saot o'qilganda:  7.804863933862125\n"
          ]
        }
      ]
    },
    {
      "cell_type": "code",
      "source": [
        "# Training Data(O'rgatishdagi ma'lumotlar)\n",
        "x_soat = [1.0, 2.0, 3.0]\n",
        "y_baho = [2.0, 4.0, 6.0]\n",
        "\n",
        "w = 1.0  #w uchun dastalbki taxminiy qiymat\n",
        "\n",
        "\n",
        "# (Modelimiz)To'g'ri hisoblash uchun funksiya\n",
        "def forward(x):\n",
        "    return x * w\n",
        "\n",
        "\n",
        "# Xatolik (Loss) ning funkisyasi\n",
        "def loss(x, y):\n",
        "    y_pred = forward(x)\n",
        "    return (y_pred - y) * (y_pred - y)\n",
        "\n",
        "\n",
        "# Gradient uchun funksiya\n",
        "def gradient(x, y):  # d_loss/d_w\n",
        "    return 2 * x * (x * w - y)\n",
        "\n",
        "\n",
        "# Training dan avval\n",
        "print(\"Bashorat (training dan avval)\",  \"4 soat o'qilganda:\", forward(4))\n",
        "\n",
        "# Training zanjiri (loop)\n",
        "learning_rate =0.01\n",
        "for epoch in range(10):\n",
        "    for x_hb_qiym, y_hb_qiym in zip(x_soat, y_baho):\n",
        "        # Hosilani hisoblash\n",
        "        # w ning qiymatini yangilash\n",
        "        # xatolikni hisoblab progressni chop qilish\n",
        "        grad = gradient(x_hb_qiym, y_hb_qiym)\n",
        "        w = w - learning_rate * grad\n",
        "        print(\"\\tgrad: \", x_hb_qiym, y_hb_qiym, round(grad, 2))\n",
        "        l = loss(x_hb_qiym, y_hb_qiym)\n",
        "    print(\"progress:\", epoch, \"w=\", round(w, 2), \"loss=\", round(l, 2))\n",
        "\n",
        "# Traningdan so'ng\n",
        "print(\"Bashorat (training dan keyin)\",  \"4 saot o'qilganda: \", forward(4))"
      ],
      "metadata": {
        "colab": {
          "base_uri": "https://localhost:8080/"
        },
        "id": "GmzeGW_brmsY",
        "outputId": "064b46b7-e91f-4ccc-f11a-496016b44943"
      },
      "execution_count": 11,
      "outputs": [
        {
          "output_type": "stream",
          "name": "stdout",
          "text": [
            "Bashorat (training dan avval) 4 soat o'qilganda: 4.0\n",
            "\tgrad:  1.0 2.0 -2.0\n",
            "\tgrad:  2.0 4.0 -7.84\n",
            "\tgrad:  3.0 6.0 -16.23\n",
            "progress: 0 w= 1.26 loss= 4.92\n",
            "\tgrad:  1.0 2.0 -1.48\n",
            "\tgrad:  2.0 4.0 -5.8\n",
            "\tgrad:  3.0 6.0 -12.0\n",
            "progress: 1 w= 1.45 loss= 2.69\n",
            "\tgrad:  1.0 2.0 -1.09\n",
            "\tgrad:  2.0 4.0 -4.29\n",
            "\tgrad:  3.0 6.0 -8.87\n",
            "progress: 2 w= 1.6 loss= 1.47\n",
            "\tgrad:  1.0 2.0 -0.81\n",
            "\tgrad:  2.0 4.0 -3.17\n",
            "\tgrad:  3.0 6.0 -6.56\n",
            "progress: 3 w= 1.7 loss= 0.8\n",
            "\tgrad:  1.0 2.0 -0.6\n",
            "\tgrad:  2.0 4.0 -2.34\n",
            "\tgrad:  3.0 6.0 -4.85\n",
            "progress: 4 w= 1.78 loss= 0.44\n",
            "\tgrad:  1.0 2.0 -0.44\n",
            "\tgrad:  2.0 4.0 -1.73\n",
            "\tgrad:  3.0 6.0 -3.58\n",
            "progress: 5 w= 1.84 loss= 0.24\n",
            "\tgrad:  1.0 2.0 -0.33\n",
            "\tgrad:  2.0 4.0 -1.28\n",
            "\tgrad:  3.0 6.0 -2.65\n",
            "progress: 6 w= 1.88 loss= 0.13\n",
            "\tgrad:  1.0 2.0 -0.24\n",
            "\tgrad:  2.0 4.0 -0.95\n",
            "\tgrad:  3.0 6.0 -1.96\n",
            "progress: 7 w= 1.91 loss= 0.07\n",
            "\tgrad:  1.0 2.0 -0.18\n",
            "\tgrad:  2.0 4.0 -0.7\n",
            "\tgrad:  3.0 6.0 -1.45\n",
            "progress: 8 w= 1.93 loss= 0.04\n",
            "\tgrad:  1.0 2.0 -0.13\n",
            "\tgrad:  2.0 4.0 -0.52\n",
            "\tgrad:  3.0 6.0 -1.07\n",
            "progress: 9 w= 1.95 loss= 0.02\n",
            "Bashorat (training dan keyin) 4 saot o'qilganda:  7.804863933862125\n"
          ]
        }
      ]
    },
    {
      "cell_type": "code",
      "source": [],
      "metadata": {
        "id": "zcZa4APlrwIi"
      },
      "execution_count": null,
      "outputs": []
    }
  ]
}